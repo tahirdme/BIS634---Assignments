{
 "cells": [
  {
   "cell_type": "markdown",
   "metadata": {},
   "source": [
    "**Exercise 4**\n",
    "\n",
    "XML MeSH Data Analysis"
   ]
  },
  {
   "cell_type": "markdown",
   "metadata": {},
   "source": [
    "Importing data"
   ]
  },
  {
   "cell_type": "code",
   "execution_count": 1,
   "metadata": {},
   "outputs": [],
   "source": [
    "import xml.etree.ElementTree as ET\n",
    "from pprint import pprint as pp \n",
    "import pandas as pd\n",
    "\n",
    "tree = ET.parse(\"desc2022.xml\")\n",
    "root = tree.getroot()"
   ]
  },
  {
   "cell_type": "code",
   "execution_count": 2,
   "metadata": {},
   "outputs": [],
   "source": [
    "#Function to make pandas dataframe of DescriptorName and DescriptorUI\n",
    "def descriptor_record():\n",
    "    \n",
    "    root = tree.getroot()\n",
    "    descriptor_data = []\n",
    "    \n",
    "    for descriptor_record in root:\n",
    "\n",
    "        descriptor_data_dict = {\n",
    "            'DescriptorUI': descriptor_record.find('DescriptorUI').text,\n",
    "            'DescriptorName': descriptor_record.find('DescriptorName/String').text,\n",
    "        }\n",
    "\n",
    "        descriptor_data.append(descriptor_data_dict)\n",
    "    \n",
    "    descriptor_data = pd.DataFrame(descriptor_data)\n",
    "\n",
    "    return descriptor_data"
   ]
  },
  {
   "cell_type": "markdown",
   "metadata": {},
   "source": [
    "Function to extract DescriptorName associated with DescriptorUI"
   ]
  },
  {
   "cell_type": "code",
   "execution_count": 3,
   "metadata": {},
   "outputs": [],
   "source": [
    "def ui_to_name(string):\n",
    "    \n",
    "    root = tree.getroot()\n",
    "    descriptor_data = []\n",
    "\n",
    "    descriptor_data = descriptor_record()\n",
    "    \n",
    "    output = descriptor_data[descriptor_data['DescriptorUI'] == string]['DescriptorName'].squeeze()\n",
    "    \n",
    "    return output"
   ]
  },
  {
   "cell_type": "code",
   "execution_count": 4,
   "metadata": {},
   "outputs": [
    {
     "data": {
      "text/plain": [
       "'Immune System Diseases'"
      ]
     },
     "execution_count": 4,
     "metadata": {},
     "output_type": "execute_result"
    }
   ],
   "source": [
    "ui_to_name('D007154')"
   ]
  },
  {
   "cell_type": "code",
   "execution_count": 5,
   "metadata": {},
   "outputs": [
    {
     "data": {
      "text/plain": [
       "'Gram-Negative Bacteria'"
      ]
     },
     "execution_count": 5,
     "metadata": {},
     "output_type": "execute_result"
    }
   ],
   "source": [
    "ui_to_name('D006090')"
   ]
  },
  {
   "cell_type": "markdown",
   "metadata": {},
   "source": [
    "Function to extract DescriptorUI associated with DescriptorName"
   ]
  },
  {
   "cell_type": "code",
   "execution_count": 6,
   "metadata": {},
   "outputs": [],
   "source": [
    "def name_to_ui(string):\n",
    "    \n",
    "    root = tree.getroot()\n",
    "    descriptor_data = []\n",
    "\n",
    "    descriptor_data = descriptor_record()\n",
    "    \n",
    "    output = descriptor_data[descriptor_data['DescriptorName'] == string]['DescriptorUI'].squeeze()\n",
    "    \n",
    "    return output"
   ]
  },
  {
   "cell_type": "code",
   "execution_count": 7,
   "metadata": {},
   "outputs": [
    {
     "data": {
      "text/plain": [
       "'D009422'"
      ]
     },
     "execution_count": 7,
     "metadata": {},
     "output_type": "execute_result"
    }
   ],
   "source": [
    "name_to_ui('Nervous System Diseases')"
   ]
  },
  {
   "cell_type": "code",
   "execution_count": 8,
   "metadata": {},
   "outputs": [
    {
     "data": {
      "text/plain": [
       "'D061207'"
      ]
     },
     "execution_count": 8,
     "metadata": {},
     "output_type": "execute_result"
    }
   ],
   "source": [
    "name_to_ui('Calcium Ionophores')"
   ]
  },
  {
   "cell_type": "markdown",
   "metadata": {},
   "source": [
    "Function to find common descendants from an input of DescriptorName and DescriptorUI "
   ]
  },
  {
   "cell_type": "code",
   "execution_count": 9,
   "metadata": {},
   "outputs": [],
   "source": [
    "def common_descendants(descriptor_name, descriptor_ui):\n",
    "    \n",
    "    root = tree.getroot()\n",
    "    descriptor_data = []\n",
    "    concept_list1 = []\n",
    "    concept_list2 = []\n",
    "    term_list1 = []\n",
    "    term_list2 = []\n",
    "    qualifier_list1 = []\n",
    "    qualifier_list2 = []\n",
    "    related_list1 = []\n",
    "    related_list2 = []\n",
    "    \n",
    "    descriptor_data = descriptor_record()\n",
    "    \n",
    "    index1 = descriptor_data[descriptor_data['DescriptorName'] == descriptor_name].index #Find indexes of both inputs\n",
    "    index2 = descriptor_data[descriptor_data['DescriptorUI'] == descriptor_ui].index\n",
    "\n",
    "    index1 = index1[0]\n",
    "    index2 = index2[0]\n",
    "    \n",
    "    #Common Concepts\n",
    "    concept_list_temp1 = root[index1].findall('ConceptList/Concept/ConceptName/String')\n",
    "    for concept in concept_list_temp1:\n",
    "        concept_list1.append(concept.text)\n",
    "        \n",
    "    concept_list_temp2 = root[index2].findall('ConceptList/Concept/ConceptName/String')\n",
    "    for concept in concept_list_temp2:\n",
    "        concept_list2.append(concept.text)\n",
    "        \n",
    "    common_concepts = list(set(concept_list1).intersection(concept_list2))  \n",
    "    \n",
    "    print('\\nDescendant Concepts in both are: ')\n",
    "    print(common_concepts)\n",
    "    \n",
    "    #Common Terms\n",
    "    term_list_temp1 = root[index1].findall('ConceptList/Concept/TermList/Term/String')\n",
    "    for term in term_list_temp1:\n",
    "        term_list1.append(term.text)\n",
    "        \n",
    "    term_list_temp2 = root[index2].findall('ConceptList/Concept/TermList/Term/String')\n",
    "    for term in term_list_temp2:\n",
    "        term_list2.append(term.text)\n",
    "        \n",
    "    common_terms = list(set(term_list1).intersection(term_list2))  \n",
    "    \n",
    "    print('\\nDescendant Terms in both are: ')\n",
    "    print(common_terms)\n",
    "    \n",
    "    #Common Qualifiers\n",
    "    qualifier_list_temp1 = root[index1].findall('AllowableQualifiersList/AllowableQualifier/QualifierReferredTo/QualifierName/String')\n",
    "    for qualifier in qualifier_list_temp1:\n",
    "        qualifier_list1.append(qualifier.text)\n",
    "        \n",
    "    qualifier_list_temp2 = root[index2].findall('AllowableQualifiersList/AllowableQualifier/QualifierReferredTo/QualifierName/String')\n",
    "    for qualifier in qualifier_list_temp2:\n",
    "        qualifier_list2.append(qualifier.text)\n",
    "        \n",
    "    common_qualifiers = list(set(qualifier_list1).intersection(qualifier_list2))\n",
    "    \n",
    "    print('\\nDescendant Qualifiers in both are: ')\n",
    "    print(common_qualifiers)\n",
    "    \n",
    "    #Common Related Descriptor\n",
    "    related_list_temp1 = root[index1].findall('SeeRelatedList/SeeRelatedDescriptor/DescriptorReferredTo/DescriptorName/String')\n",
    "    for related in related_list_temp1:\n",
    "        related_list1.append(related.text)\n",
    "        \n",
    "    related_list_temp2 = root[index2].findall('SeeRelatedList/SeeRelatedDescriptor/DescriptorReferredTo/DescriptorName/String')\n",
    "    for related in related_list_temp2:\n",
    "        related_list2.append(related.text)\n",
    "        \n",
    "    common_related = list(set(related_list1).intersection(related_list2))\n",
    "    \n",
    "    print('\\nDescendant Related Descriptors in both are: ')\n",
    "    print(common_related)\n",
    "    \n",
    "    return"
   ]
  },
  {
   "cell_type": "code",
   "execution_count": 10,
   "metadata": {},
   "outputs": [
    {
     "name": "stdout",
     "output_type": "stream",
     "text": [
      "\n",
      "Descendant Concepts in both are: \n",
      "[]\n",
      "\n",
      "Descendant Terms in both are: \n",
      "[]\n",
      "\n",
      "Descendant Qualifiers in both are: \n",
      "['diet therapy', 'parasitology', 'diagnostic imaging', 'diagnosis', 'radiotherapy', 'prevention & control', 'history', 'complications', 'psychology', 'therapy', 'immunology', 'genetics', 'epidemiology', 'pathology', 'drug therapy', 'embryology', 'urine', 'physiopathology', 'etiology', 'mortality', 'cerebrospinal fluid', 'economics', 'congenital', 'virology', 'surgery', 'blood', 'classification', 'veterinary', 'ethnology', 'enzymology', 'metabolism', 'nursing', 'chemically induced', 'microbiology', 'rehabilitation']\n",
      "\n",
      "Descendant Related Descriptors in both are: \n",
      "[]\n"
     ]
    }
   ],
   "source": [
    "common_descendants('Nervous System Diseases', 'D007154')"
   ]
  },
  {
   "cell_type": "markdown",
   "metadata": {},
   "source": [
    "Explain briefly in terms of biology/medicine what the above search has found.\n",
    "\n",
    "The search above has demonstrated that the two topics - 'Nervous System Diseases' and 'Immune System Diseases' - have no direct connections in the Medical Subject Heading database.\n",
    "This makes sense since they are different disease conditions.\n",
    "\n",
    "They have common qualifiers which are mainly broader treatment methods and disciplines that involve both diseases. "
   ]
  }
 ],
 "metadata": {
  "kernelspec": {
   "display_name": "Python 3",
   "language": "python",
   "name": "python3"
  },
  "language_info": {
   "codemirror_mode": {
    "name": "ipython",
    "version": 3
   },
   "file_extension": ".py",
   "mimetype": "text/x-python",
   "name": "python",
   "nbconvert_exporter": "python",
   "pygments_lexer": "ipython3",
   "version": "3.8.5"
  }
 },
 "nbformat": 4,
 "nbformat_minor": 4
}
