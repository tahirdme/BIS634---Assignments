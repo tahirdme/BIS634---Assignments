{
 "cells": [
  {
   "cell_type": "markdown",
   "id": "06f260c8",
   "metadata": {},
   "source": [
    "# Assignent 5\n",
    "## Question 2\n",
    "### Tahir Manuel D'Mello"
   ]
  },
  {
   "cell_type": "markdown",
   "id": "7023dfdc",
   "metadata": {},
   "source": [
    "What's your data? **(4 points)**"
   ]
  },
  {
   "cell_type": "markdown",
   "id": "d02006aa",
   "metadata": {},
   "source": [
    "My data is from is a dataset titled 'FIFA 22 complete player dataset' compiled by STEFANO LEONE on Kaggle.\n",
    "https://www.kaggle.com/datasets/stefanoleone992/fifa-22-complete-player-dataset?select=players_22.csv\n",
    "\n",
    "It contains data about all soccer/football players on the FIFA 2022 Football game published by EA Sports FC.\n",
    "The data was scraped from the publicly available website sofifa.com by Stefano Leone and uploaded to Kaggle.\n",
    "\n",
    "It contains 110 columns of information about 19239 professional players.  \n",
    "It consists of player statistics and attributes in various areas - physical, attacking, defending, psychological, etc.  \n",
    "It also has information about player nationality, position, age, club status and monetary contracts."
   ]
  },
  {
   "cell_type": "markdown",
   "id": "e535d201",
   "metadata": {},
   "source": [
    "What analyses do you want to run and why are they interesting? **(4 points)**"
   ]
  },
  {
   "cell_type": "markdown",
   "id": "8f82faeb",
   "metadata": {},
   "source": [
    "The overall goal of my project is to buld a decision tool that will allow someone with no football knowledge to assess the player quality and financial (wage) status of a team. The analyses will be done on a user-selected team.\n",
    "  \n",
    "I am going to perform two main analyses for this:  \n",
    "    1. Principal component analysis on player stats and attributes followed by k-means clustering. This will allow me to visually demonstrate which players are similar in playing profile without using any football-specific attributes.  \n",
    "    2. A Random Forest Regressor will be trained to predict the wages from playing attributes of all players on the dataset except in the team chosen. Then, the regressor is used to predict the wages of the players on the team to determine if they are under/over paid. "
   ]
  },
  {
   "cell_type": "markdown",
   "id": "c1c8242e",
   "metadata": {},
   "source": [
    "Which ones will be interactive, where the user can provide a parameter? **(4 points)**  \n",
    "What graphs will you make? **(4 points)** "
   ]
  },
  {
   "cell_type": "markdown",
   "id": "5eba448d",
   "metadata": {},
   "source": [
    "The user provides the team name as a parameter at the start for both analyses.  \n",
    "  \n",
    "Both analyses will create graphs that will be interactive.  \n",
    "\n",
    "The first one will be a 3D plot that the user can move around to look at the data. There might even be hover information for each player. The user can specify how many clusters (k) to make of the data.  \n",
    "The second one will be a hover scatter plot of predicted vs actual wages. Each point will hover to show information about the player.   "
   ]
  },
  {
   "cell_type": "markdown",
   "id": "8d582482",
   "metadata": {},
   "source": [
    "Describe how you want your website to work. **(4 points)**"
   ]
  },
  {
   "cell_type": "markdown",
   "id": "2af39d8c",
   "metadata": {},
   "source": [
    "The landing page will have a user-entry field.  \n",
    "The user will choose what team the analyses will be carried out on.  \n",
    "  \n",
    "Then maybe, basic EDA summary statistics of the team will be displayed.\n",
    "\n",
    "The user will be able to scroll (or maybe click) to the PCA-KNN graph and manipulate that as desired.  \n",
    "Then he/she will similarly be able to move to the wage scatter plot."
   ]
  },
  {
   "cell_type": "markdown",
   "id": "777466de",
   "metadata": {},
   "source": [
    "What do you see as your biggest challenge to completing this, and how do you expect to overcome this challenge? **(5 points)**"
   ]
  },
  {
   "cell_type": "markdown",
   "id": "a2d317c5",
   "metadata": {},
   "source": [
    "I have actually already completed my major analyses and generated all my graphs.    \n",
    "I do want to still add additional features to my graphs if I can.  \n",
    "  \n",
    "I need to still build my website. This is the main challenge left for me.  \n",
    "I have not worked a lot with website building tools beyond this assignemnt.  \n",
    "\n",
    "My plan is to start with a basic framework and build my way up from there until I have a full website with all the features I need. "
   ]
  }
 ],
 "metadata": {
  "kernelspec": {
   "display_name": "Python 3 (ipykernel)",
   "language": "python",
   "name": "python3"
  },
  "language_info": {
   "codemirror_mode": {
    "name": "ipython",
    "version": 3
   },
   "file_extension": ".py",
   "mimetype": "text/x-python",
   "name": "python",
   "nbconvert_exporter": "python",
   "pygments_lexer": "ipython3",
   "version": "3.9.13"
  }
 },
 "nbformat": 4,
 "nbformat_minor": 5
}
