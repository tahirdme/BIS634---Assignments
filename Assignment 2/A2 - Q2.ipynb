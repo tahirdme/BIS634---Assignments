{
 "cells": [
  {
   "cell_type": "markdown",
   "metadata": {},
   "source": [
    "**QUESTION 2** - Bloom Filter"
   ]
  },
  {
   "cell_type": "code",
   "execution_count": 1,
   "metadata": {},
   "outputs": [],
   "source": [
    "from hashlib import sha3_256, sha256, blake2b\n",
    "\n",
    "def my_hash(s):\n",
    "    return int(sha256(s.lower().encode()).hexdigest(), 16) % size\n",
    "\n",
    "def my_hash2(s):\n",
    "    return int(blake2b(s.lower().encode()).hexdigest(), 16) % size\n",
    "\n",
    "def my_hash3(s):\n",
    "    return int(sha3_256(s.lower().encode()).hexdigest(), 16) % size"
   ]
  },
  {
   "cell_type": "markdown",
   "metadata": {},
   "source": [
    "**Implement a Bloom Filter \"from scratch\" using a bitarray (6 points):**"
   ]
  },
  {
   "cell_type": "code",
   "execution_count": 2,
   "metadata": {},
   "outputs": [],
   "source": [
    "import bitarray\n",
    "import string\n",
    "\n",
    "\n",
    "class BloomFilter3:\n",
    "    \n",
    "    def __init__(self, size):\n",
    "        self._data = bitarray.bitarray(size)\n",
    "        self._data.setall(0)\n",
    "        \n",
    "        \n",
    "    def build(self, word):\n",
    "        index = [0] * 3\n",
    "        index[0] = my_hash(word)\n",
    "        index[1] = my_hash2(word)\n",
    "        index[2] = my_hash3(word)\n",
    "\n",
    "        for i in index:\n",
    "            self._data[i] = 1\n",
    "        \n",
    "        \n",
    "    def search(self, word):\n",
    "        index = [0] * 3\n",
    "        index[0] = my_hash(word)\n",
    "        index[1] = my_hash2(word)\n",
    "        index[2] = my_hash3(word)\n",
    "        \n",
    "        answer = 0\n",
    "        \n",
    "        for i in index:\n",
    "            answer = answer + self._data[i]\n",
    "        \n",
    "        if answer == len(index):\n",
    "            return word\n",
    "    \n",
    "    \n",
    "    def spellcheck(self, word):\n",
    "        \n",
    "        results = []\n",
    "        \n",
    "        for i in range(0 , len(word) - 1):\n",
    "            for character in string.ascii_lowercase: \n",
    "                word_temp = list(word)\n",
    "                word_temp[i] = character\n",
    "                word_temp = ''.join(word_temp)\n",
    "\n",
    "                check = self.search(word_temp)\n",
    "                \n",
    "                if check is not None:\n",
    "                    results.append(check)\n",
    "                    \n",
    "        return results"
   ]
  },
  {
   "cell_type": "markdown",
   "metadata": {},
   "source": [
    "**Store the words in the bloom filter (2 points).**"
   ]
  },
  {
   "cell_type": "code",
   "execution_count": 3,
   "metadata": {},
   "outputs": [],
   "source": [
    "size = 10_000_000\n",
    "bloom_filter = BloomFilter3(size)\n",
    "        \n",
    "with open('words.txt') as f:\n",
    "    for line in f:\n",
    "        word = line.strip()\n",
    "        #print(word)\n",
    "        \n",
    "        bloom_filter.build(word)"
   ]
  },
  {
   "cell_type": "markdown",
   "metadata": {},
   "source": [
    "**Write a function that suggests spelling corrections using the bloom filter (Code in above Class) (8 points)**"
   ]
  },
  {
   "cell_type": "code",
   "execution_count": 4,
   "metadata": {},
   "outputs": [
    {
     "data": {
      "text/plain": [
       "['floter', 'flower']"
      ]
     },
     "execution_count": 4,
     "metadata": {},
     "output_type": "execute_result"
    }
   ],
   "source": [
    "bloom_filter.spellcheck('floeer')"
   ]
  },
  {
   "cell_type": "code",
   "execution_count": 5,
   "metadata": {},
   "outputs": [
    {
     "data": {
      "text/plain": [
       "['potato']"
      ]
     },
     "execution_count": 5,
     "metadata": {},
     "output_type": "execute_result"
    }
   ],
   "source": [
    "bloom_filter.spellcheck('pitato')"
   ]
  },
  {
   "cell_type": "markdown",
   "metadata": {},
   "source": [
    "**Plot the effect of the size of the filter together with the choice of just the first, the first two, or all three of the above hash functions on the number of words misidentified from typos.json as correct and the number of \"good suggestions\". (4 points)** "
   ]
  },
  {
   "cell_type": "code",
   "execution_count": 6,
   "metadata": {},
   "outputs": [],
   "source": [
    "import json\n",
    "\n",
    "f = open('typos.json')\n",
    "  \n",
    "typos_data = json.load(f)\n",
    "\n",
    "f.close()\n",
    "\n",
    "typos_data_misspelt = []\n",
    "\n",
    "for item in typos_data:\n",
    "    if item[0] != item[1]:\n",
    "        typos_data_misspelt.append(item)\n",
    "        "
   ]
  },
  {
   "cell_type": "code",
   "execution_count": 7,
   "metadata": {},
   "outputs": [],
   "source": [
    "import bitarray\n",
    "import string\n",
    "import numpy as np\n",
    "\n",
    "class BloomFilter1:\n",
    "    \n",
    "    def __init__(self, size):\n",
    "        self._data = bitarray.bitarray(size)\n",
    "        self._data.setall(0)\n",
    "        \n",
    "        \n",
    "    def build(self, word):\n",
    "        index = [0] * 1\n",
    "        index[0] = my_hash(word)\n",
    "\n",
    "        for i in index:\n",
    "            self._data[i] = 1\n",
    "        \n",
    "        \n",
    "    def search(self, word):\n",
    "        index = [0] * 1\n",
    "        index[0] = my_hash(word)\n",
    "        \n",
    "        answer = 0\n",
    "        \n",
    "        for i in index:\n",
    "            answer = answer + self._data[i]\n",
    "        \n",
    "        if answer == len(index):\n",
    "            return word\n",
    "    \n",
    "    \n",
    "    def spellcheck(self, word):\n",
    "        \n",
    "        results = []\n",
    "        \n",
    "        for i in range(0 , len(word) - 1):\n",
    "            for character in string.ascii_lowercase: \n",
    "                word_temp = list(word)\n",
    "                word_temp[i] = character\n",
    "                word_temp = ''.join(word_temp)\n",
    "\n",
    "                check = self.search(word_temp)\n",
    "                \n",
    "                if check is not None:\n",
    "                    results.append(check)\n",
    "                    \n",
    "        return results\n",
    "    \n",
    "    \n",
    "\n",
    "class BloomFilter2:\n",
    "    \n",
    "    def __init__(self, size):\n",
    "        self._data = bitarray.bitarray(size)\n",
    "        self._data.setall(0)\n",
    "        \n",
    "        \n",
    "    def build(self, word):\n",
    "        index = [0] * 2\n",
    "        index[0] = my_hash(word)\n",
    "        index[1] = my_hash2(word)\n",
    "\n",
    "        for i in index:\n",
    "            self._data[i] = 1\n",
    "        \n",
    "        \n",
    "    def search(self, word):\n",
    "        index = [0] * 2\n",
    "        index[0] = my_hash(word)\n",
    "        index[1] = my_hash2(word)\n",
    "\n",
    "        answer = 0\n",
    "        \n",
    "        for i in index:\n",
    "            answer = answer + self._data[i]\n",
    "        \n",
    "        if answer == len(index):\n",
    "            return word\n",
    "    \n",
    "    \n",
    "    def spellcheck(self, word):\n",
    "        \n",
    "        results = []\n",
    "        \n",
    "        for i in range(0 , len(word) - 1):\n",
    "            for character in string.ascii_lowercase: \n",
    "                word_temp = list(word)\n",
    "                word_temp[i] = character\n",
    "                word_temp = ''.join(word_temp)\n",
    "\n",
    "                check = self.search(word_temp)\n",
    "                \n",
    "                if check is not None:\n",
    "                    results.append(check)\n",
    "                    \n",
    "        return results\n",
    "    "
   ]
  },
  {
   "cell_type": "code",
   "execution_count": 8,
   "metadata": {},
   "outputs": [],
   "source": [
    "n_range = []\n",
    "\n",
    "for i in range(0,10):\n",
    "    n_range.append(10**i)"
   ]
  },
  {
   "cell_type": "code",
   "execution_count": 9,
   "metadata": {},
   "outputs": [],
   "source": [
    "success_counts_1 = []\n",
    "\n",
    "for size in n_range:\n",
    "    \n",
    "    bloom_filter_1 = BloomFilter1(size)\n",
    "        \n",
    "    with open('words.txt') as f:\n",
    "        for line in f:\n",
    "            word = line.strip()\n",
    "            #print(word)\n",
    "            \n",
    "            bloom_filter_1.build(word)\n",
    "    \n",
    "    success = 0\n",
    "    \n",
    "    for item in typos_data_misspelt:\n",
    "        answer = bloom_filter_1.spellcheck(item[0])\n",
    "        \n",
    "        if len(answer) <= 3 and (item[1] in answer):\n",
    "            success = success + 1\n",
    "            \n",
    "    success_counts_1.append(success)\n"
   ]
  },
  {
   "cell_type": "code",
   "execution_count": 10,
   "metadata": {},
   "outputs": [],
   "source": [
    "success_counts_2 = []\n",
    "\n",
    "for size in n_range:\n",
    "    \n",
    "    bloom_filter_2 = BloomFilter2(size)\n",
    "        \n",
    "    with open('words.txt') as f:\n",
    "        for line in f:\n",
    "            word = line.strip()\n",
    "            #print(word)\n",
    "            \n",
    "            bloom_filter_2.build(word)\n",
    "    \n",
    "    success = 0\n",
    "    \n",
    "    for item in typos_data_misspelt:\n",
    "        answer = bloom_filter_2.spellcheck(item[0])\n",
    "        \n",
    "        if len(answer) <= 3 and (item[1] in answer):\n",
    "            success = success + 1\n",
    "            \n",
    "    success_counts_2.append(success)\n",
    "    "
   ]
  },
  {
   "cell_type": "code",
   "execution_count": 11,
   "metadata": {},
   "outputs": [],
   "source": [
    "success_counts_3 = []\n",
    "\n",
    "for size in n_range:\n",
    "    \n",
    "    bloom_filter_3 = BloomFilter3(size)\n",
    "        \n",
    "    with open('words.txt') as f:\n",
    "        for line in f:\n",
    "            word = line.strip()\n",
    "            #print(word)\n",
    "            \n",
    "            bloom_filter_3.build(word)\n",
    "    \n",
    "    success = 0\n",
    "    \n",
    "    for item in typos_data_misspelt:\n",
    "        answer = bloom_filter_3.spellcheck(item[0])\n",
    "        \n",
    "        if len(answer) <= 3 and (item[1] in answer):\n",
    "            success = success + 1\n",
    "            \n",
    "    success_counts_3.append(success)\n",
    "    "
   ]
  },
  {
   "cell_type": "code",
   "execution_count": 28,
   "metadata": {},
   "outputs": [
    {
     "data": {
      "image/png": "[encoded data removed]",
      "text/plain": [
       "<Figure size 1080x864 with 1 Axes>"
      ]
     },
     "metadata": {
      "needs_background": "light"
     },
     "output_type": "display_data"
    }
   ],
   "source": [
    "import matplotlib.pyplot as plt\n",
    "import numpy as np\n",
    "import math\n",
    "\n",
    "success_percentages_1 = np.array(success_counts_1)*100/len(typos_data_misspelt)\n",
    "success_percentages_2 = np.array(success_counts_2)*100/len(typos_data_misspelt)\n",
    "success_percentages_3 = np.array(success_counts_3)*100/len(typos_data_misspelt)\n",
    "\n",
    "failure_percentages_1 = 100 - success_percentages_1\n",
    "failure_percentages_2 = 100 - success_percentages_2\n",
    "failure_percentages_3 = 100 - success_percentages_3\n",
    "\n",
    "x_axis = np.log10(n_range)\n",
    "\n",
    "plt.figure(figsize=(15, 12))\n",
    "plt.plot(x_axis, success_percentages_1, label = 'Success Percentage with 1 hash')\n",
    "plt.plot(x_axis, success_percentages_2, label = 'Success Percentage with 2 hashes')\n",
    "plt.plot(x_axis, success_percentages_3, label = 'Success Percentage with 3 hashes')\n",
    "plt.plot(x_axis, failure_percentages_1, label = 'Failure Percentage with 1 hash')\n",
    "plt.plot(x_axis, failure_percentages_2, label = 'Failure Percentage with 2 hashes')\n",
    "plt.plot(x_axis, failure_percentages_3, label = 'Failure Percentage with 3 hashes')\n",
    "\n",
    "\n",
    "plt.title('Bloom Filter Performance')\n",
    "plt.ticklabel_format(style='sci', axis='x')\n",
    "plt.ylabel('%')\n",
    "plt.xlabel('n (bits) (Powers of 10)')\n",
    "plt.legend(loc=\"upper left\")\n",
    "\n",
    "plt.xticks(np.arange(min(x_axis), max(x_axis)+1, 1.0))\n",
    "plt.yticks(np.arange(min(success_percentages_1), max(failure_percentages_1)+10, 10))\n",
    "plt.show()"
   ]
  },
  {
   "cell_type": "markdown",
   "metadata": {},
   "source": [
    "**Approximately how many bits is necessary for this approach to give good suggestions (as defined above) 90% of the time when using each of 1, 2, or 3 hash functions as above? (5 points)**"
   ]
  },
  {
   "cell_type": "markdown",
   "metadata": {},
   "source": [
    "Cutoff changed to 80% since no bloomfilter was returning abouve 90%.  \n",
    "This could have been due to a difference in definition of the metric used for performance"
   ]
  },
  {
   "cell_type": "code",
   "execution_count": 35,
   "metadata": {},
   "outputs": [
    {
     "name": "stdout",
     "output_type": "stream",
     "text": [
      "The number of bits necessary for good performance as defined about for 1 hash is 10 ^ 9\n"
     ]
    }
   ],
   "source": [
    "cutoff_1 = np.where(success_percentages_1  >= 80)\n",
    "cutoff_1\n",
    "\n",
    "print(\"The number of bits necessary for good performance as defined about for 1 hash is 10 ^\",cutoff_1[0][0])"
   ]
  },
  {
   "cell_type": "code",
   "execution_count": 37,
   "metadata": {},
   "outputs": [
    {
     "name": "stdout",
     "output_type": "stream",
     "text": [
      "The number of bits necessary for good performance as defined about for 2 hashes is 10 ^ 8\n"
     ]
    }
   ],
   "source": [
    "cutoff_2 = np.where(success_percentages_2  >= 80)\n",
    "cutoff_2\n",
    "\n",
    "print(\"The number of bits necessary for good performance as defined about for 2 hashes is 10 ^\",cutoff_2[0][0])"
   ]
  },
  {
   "cell_type": "code",
   "execution_count": 38,
   "metadata": {},
   "outputs": [
    {
     "name": "stdout",
     "output_type": "stream",
     "text": [
      "The number of bits necessary for good performance as defined about for 2 hashes is 10 ^ 7\n"
     ]
    }
   ],
   "source": [
    "cutoff_3 = np.where(success_percentages_3  >= 80)\n",
    "cutoff_3\n",
    "\n",
    "print(\"The number of bits necessary for good performance as defined about for 2 hashes is 10 ^\",cutoff_3[0][0])"
   ]
  }
 ],
 "metadata": {
  "kernelspec": {
   "display_name": "Python 3 (ipykernel)",
   "language": "python",
   "name": "python3"
  },
  "language_info": {
   "codemirror_mode": {
    "name": "ipython",
    "version": 3
   },
   "file_extension": ".py",
   "mimetype": "text/x-python",
   "name": "python",
   "nbconvert_exporter": "python",
   "pygments_lexer": "ipython3",
   "version": "3.9.12"
  }
 },
 "nbformat": 4,
 "nbformat_minor": 4
}
