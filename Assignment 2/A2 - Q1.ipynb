{
 "cells": [
  {
   "cell_type": "markdown",
   "id": "d9c2893e",
   "metadata": {},
   "source": [
    "**QUESTION 1** - Memory Allocation\n",
    "\n",
    "Tahir Manuel D Mello  \n",
    "BIS634 Assignment 2"
   ]
  },
  {
   "cell_type": "markdown",
   "id": "3926aa40",
   "metadata": {},
   "source": [
    "**Explain what went wrong (5 points).**"
   ]
  },
  {
   "cell_type": "markdown",
   "id": "87d63bea",
   "metadata": {},
   "source": [
    "Answer:  \n",
    "My friend tried to load in too much data in one operation.  \n",
    "The operation ran out of memory. \n",
    "\n",
    "A number of factors could have caused this:\n",
    "- Some of the RAM is being used by the OS, other programs and other Python overheads.\n",
    "- Not all 8 GB of RAM is available to be used.\n",
    "- There could be a limit on how much of the RAM a single thread of the CPU can use. (Since this is not multi-threaded)"
   ]
  },
  {
   "cell_type": "markdown",
   "id": "5e398bf2",
   "metadata": {},
   "source": [
    "**Suggest a way of storing all the data in memory that would work (5 points).**"
   ]
  },
  {
   "cell_type": "markdown",
   "id": "4a382e1c",
   "metadata": {},
   "source": [
    "Answer:  \n",
    "The data can be divided into batches.   \n",
    "Each batch can be stored sequentially and unneeded memory can be cleared between each batch."
   ]
  },
  {
   "cell_type": "markdown",
   "id": "763bf38b",
   "metadata": {},
   "source": [
    "**Suggest a strategy for calculating the average that would not require storing all the data in memory (5 points).**"
   ]
  },
  {
   "cell_type": "markdown",
   "id": "894d50b4",
   "metadata": {},
   "source": [
    "Answer:  \n",
    "A running sum of the data could be taken. \n",
    "This would require only a single float to be stored.  \n",
    "Every iteration, the incoming number on the line is added to the 'sum' float.  \n",
    "This way, we can still calculate the sum without storing every line in memory.\n",
    "\n",
    "\n",
    "    with open('weights.txt') as f:\n",
    "        sum = float(0)\n",
    "        for line in f:\n",
    "            sum = sum + float(line)\n",
    "    print(\"average =\", sum / len(weights))\n",
    "    \n"
   ]
  }
 ],
 "metadata": {
  "kernelspec": {
   "display_name": "Python 3 (ipykernel)",
   "language": "python",
   "name": "python3"
  },
  "language_info": {
   "codemirror_mode": {
    "name": "ipython",
    "version": 3
   },
   "file_extension": ".py",
   "mimetype": "text/x-python",
   "name": "python",
   "nbconvert_exporter": "python",
   "pygments_lexer": "ipython3",
   "version": "3.9.12"
  }
 },
 "nbformat": 4,
 "nbformat_minor": 5
}
