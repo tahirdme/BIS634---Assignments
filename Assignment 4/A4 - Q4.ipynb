{
 "cells": [
  {
   "cell_type": "markdown",
   "id": "d1b5c837",
   "metadata": {},
   "source": [
    "## Question 4  \n",
    "\n",
    "### Tahir Manuel D'Mello"
   ]
  },
  {
   "cell_type": "markdown",
   "id": "81c8ec35",
   "metadata": {},
   "source": [
    "Implement a function that takes two strings and returns an optimal local alignment **(6 points)** and score **(6 points)** using the Smith-Waterman algorithm. Insert \"-\" as needed to indicate a gap (this is part of the alignment points). Your function should also take and correctly use three keyword arguments with defaults as follows: match=1, gap_penalty=1, mismatch_penalty=1. **(6 points)**"
   ]
  },
  {
   "cell_type": "code",
   "execution_count": 1,
   "id": "fd5d3ddf",
   "metadata": {},
   "outputs": [],
   "source": [
    "import numpy as np"
   ]
  },
  {
   "cell_type": "code",
   "execution_count": 2,
   "id": "fecbac83",
   "metadata": {},
   "outputs": [],
   "source": [
    "def smith_waterman(seq1, seq2, match_score = 1, gap_penalty = 1, mismatch_penalty = 1):\n",
    "\n",
    "    gap_penalty = -gap_penalty \n",
    "    mismatch_penalty = -mismatch_penalty\n",
    "    \n",
    "    m, n = len(seq1), len(seq2)\n",
    "\n",
    "    p = np.zeros((m + 1, n + 1))\n",
    "    \n",
    "    max_p = 0\n",
    "    max_i = 0\n",
    "    max_j = 0\n",
    "    \n",
    "    for i in range(1, m + 1):\n",
    "        for j in range(1, n + 1):\n",
    "            ver_gap = p[i][j-1] + gap_penalty\n",
    "            hor_gap = p[i-1][j] + gap_penalty\n",
    "\n",
    "            if seq1[i - 1] == seq2[j - 1]:\n",
    "                match = p[i - 1][j - 1] + match_score\n",
    "            else:\n",
    "                match = p[i - 1][j - 1] + mismatch_penalty\n",
    "\n",
    "            p[i][j] = max(0, hor_gap, ver_gap, match)\n",
    "            \n",
    "            if( p[i][j] > max_p):\n",
    "                max_i = i\n",
    "                max_j = j\n",
    "                max_p = p[i][j]\n",
    "    \n",
    "    i, j = max_i, max_j\n",
    "    seq_1_out = \"\"\n",
    "    seq_2_out = \"\"\n",
    "    \n",
    "    while i > 0 and j > 0:       \n",
    "        #print(i)\n",
    "        #print(j)\n",
    "            \n",
    "        if p[i][j-1] == p[i][j] - gap_penalty:\n",
    "            seq_1_out = seq_1_out + '-'\n",
    "            seq_2_out = seq_2_out + seq2[j-1]\n",
    "            j -= 1\n",
    "                       \n",
    "        elif p[i-1][j] == p[i][j] - gap_penalty:\n",
    "            seq_1_out = seq_1_out + seq1[i-1]\n",
    "            seq_2_out = seq_2_out + '-'\n",
    "            i -= 1\n",
    "            \n",
    "        elif p[i-1][j-1] == p[i][j] - match_score:\n",
    "            seq_1_out = seq_1_out + seq1[i-1]\n",
    "            seq_2_out = seq_2_out + seq2[j-1]\n",
    "            i -= 1\n",
    "            j -= 1\n",
    "            \n",
    "        elif p[i-1][j-1] == p[i][j] - mismatch_penalty:\n",
    "            seq_1_out = seq_1_out + seq1[i-1]\n",
    "            seq_2_out = seq_2_out + seq2[j-1]\n",
    "            i -= 1\n",
    "            j -= 1\n",
    "            \n",
    "        else:\n",
    "            break\n",
    "\n",
    "    seq_1_out = seq_1_out[::-1]\n",
    "    seq_2_out = seq_2_out[::-1]\n",
    "    \n",
    "    print(\"Sequence 1 is\", seq_1_out)\n",
    "    print(\"Sequence 2 is\", seq_2_out)\n",
    "    print(\"Score is\", max_p)\n",
    "    \n",
    "    return seq_1_out, seq_2_out, max_p"
   ]
  },
  {
   "cell_type": "code",
   "execution_count": 3,
   "id": "3e63aeb6",
   "metadata": {},
   "outputs": [
    {
     "name": "stdout",
     "output_type": "stream",
     "text": [
      "Sequence 1 is atcgagacccta-cgt-gac\n",
      "Sequence 2 is a-ctagacc-tagcatcgac\n",
      "Score is 8.0\n"
     ]
    }
   ],
   "source": [
    "seq1, seq2, score = smith_waterman('tgcatcgagaccctacgtgac', 'actagacctagcatcgac')"
   ]
  },
  {
   "cell_type": "code",
   "execution_count": 4,
   "id": "1fc6088d",
   "metadata": {},
   "outputs": [
    {
     "name": "stdout",
     "output_type": "stream",
     "text": [
      "Sequence 1 is gcatcga\n",
      "Sequence 2 is gcatcga\n",
      "Score is 7.0\n"
     ]
    }
   ],
   "source": [
    "seq1, seq2, score = smith_waterman('tgcatcgagaccctacgtgac', 'actagacctagcatcgac', gap_penalty = 2)"
   ]
  },
  {
   "cell_type": "markdown",
   "id": "8c35624c",
   "metadata": {},
   "source": [
    "Test it, and explain how your tests show that your function works. Be sure to test other values of match, gap_penalty, and mismatch_penalty. **(7 points)**"
   ]
  },
  {
   "cell_type": "code",
   "execution_count": 5,
   "id": "e1a646a2",
   "metadata": {},
   "outputs": [
    {
     "name": "stdout",
     "output_type": "stream",
     "text": [
      "Sequence 1 is chicken\n",
      "Sequence 2 is chicken\n",
      "Score is 7.0\n"
     ]
    }
   ],
   "source": [
    "seq1, seq2, score = smith_waterman('qwertychickenasdfg', 'zxcvbchickenmkopl', gap_penalty = 5,  mismatch_penalty = 5)"
   ]
  },
  {
   "cell_type": "markdown",
   "id": "0d41e543",
   "metadata": {},
   "source": [
    "This implementation heavily penalizes mismatches and gaps so only exact matches with no breaks are given the highest priority.  \n",
    "The word 'chicken' is thus picked out of the entire sequence."
   ]
  },
  {
   "cell_type": "code",
   "execution_count": 6,
   "id": "68d7c6fe",
   "metadata": {},
   "outputs": [
    {
     "name": "stdout",
     "output_type": "stream",
     "text": [
      "Sequence 1 is apbl-ci-du-et-fq-g\n",
      "Sequence 2 is a-b-gc-md-xe-kf-ng\n",
      "Score is 10.0\n"
     ]
    }
   ],
   "source": [
    "seq1, seq2, score = smith_waterman('apblciduetfqg', 'aabgcmdxekfng', match_score = 3, gap_penalty = 1,  mismatch_penalty = 4)"
   ]
  },
  {
   "cell_type": "markdown",
   "id": "d08b536f",
   "metadata": {},
   "source": [
    "This implementation heavily penalizes mismatches, lightly penalizes gaps and heavily rewards matches.  \n",
    "Thus, the a-b-c-d-e-f-g are matched strictly with appropriate gaps added in between with no mismatches."
   ]
  },
  {
   "cell_type": "code",
   "execution_count": 7,
   "id": "770250ae",
   "metadata": {
    "scrolled": true
   },
   "outputs": [
    {
     "name": "stdout",
     "output_type": "stream",
     "text": [
      "Sequence 1 is apblciduetfqg\n",
      "Sequence 2 is aabgcmdxekfng\n",
      "Score is 15.0\n"
     ]
    }
   ],
   "source": [
    "seq1, seq2, score = smith_waterman('rsapblciduetfqg', 'paabgcmdxekfnga', match_score = 3, gap_penalty = 4,  mismatch_penalty = 1)"
   ]
  },
  {
   "cell_type": "markdown",
   "id": "ea53adb6",
   "metadata": {},
   "source": [
    "This implementation heavily penalizes gaps, lightly penalizes mismatches and heavily rewards matches.  \n",
    "Thus, the a-b-c-d-e-f-g are matched strictly with appropriate mismatches added in between with no gaps."
   ]
  },
  {
   "cell_type": "markdown",
   "id": "b4184621",
   "metadata": {},
   "source": [
    "With these 3 test cases, the function is demonstrated to work for varying penalties.  \n",
    "It functions in a logical manner as expected and thus shows that the function works."
   ]
  }
 ],
 "metadata": {
  "kernelspec": {
   "display_name": "Python 3 (ipykernel)",
   "language": "python",
   "name": "python3"
  },
  "language_info": {
   "codemirror_mode": {
    "name": "ipython",
    "version": 3
   },
   "file_extension": ".py",
   "mimetype": "text/x-python",
   "name": "python",
   "nbconvert_exporter": "python",
   "pygments_lexer": "ipython3",
   "version": "3.9.13"
  }
 },
 "nbformat": 4,
 "nbformat_minor": 5
}
